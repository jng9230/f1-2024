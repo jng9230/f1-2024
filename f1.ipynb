{
 "cells": [
  {
   "cell_type": "code",
   "execution_count": 1,
   "id": "00725716-7dd0-4c88-9e0a-e889c09ff3fc",
   "metadata": {},
   "outputs": [],
   "source": [
    "import fastf1\n",
    "from matplotlib import pyplot as plt\n",
    "import fastf1.plotting\n",
    "\n",
    "import pandas as pd\n",
    "import plotly.express as px\n",
    "from plotly.io import show\n",
    "\n",
    "from fastf1.ergast import Ergast\n",
    "\n",
    "import seaborn as sns\n",
    "from matplotlib import pyplot as plt"
   ]
  },
  {
   "cell_type": "markdown",
   "id": "18c2d7cf-4456-4ae8-8c28-7610a89f301a",
   "metadata": {},
   "source": [
    "## Plot driver standings in a heatmap"
   ]
  },
  {
   "cell_type": "code",
   "execution_count": 5,
   "id": "b0afece4-c588-4e3b-8ba3-3c1dd4fababa",
   "metadata": {
    "scrolled": true
   },
   "outputs": [],
   "source": [
    "ergast = Ergast()\n",
    "races = ergast.get_race_schedule(2022)  # Races in year 2022\n",
    "results = []\n",
    "\n",
    "# For each race in the season\n",
    "for rnd, race in races['raceName'].items():\n",
    "\n",
    "    # Get results. Note that we use the round no. + 1, because the round no.\n",
    "    # starts from one (1) instead of zero (0)\n",
    "    temp = ergast.get_race_results(season=2022, round=rnd + 1)\n",
    "    temp = temp.content[0]\n",
    "\n",
    "    # If there is a sprint, get the results as well\n",
    "    sprint = ergast.get_sprint_results(season=2022, round=rnd + 1)\n",
    "    if sprint.content and sprint.description['round'][0] == rnd + 1:\n",
    "        temp = pd.merge(temp, sprint.content[0], on='driverCode', how='left')\n",
    "        # Add sprint points and race points to get the total\n",
    "        temp['points'] = temp['points_x'] + temp['points_y']\n",
    "        temp.drop(columns=['points_x', 'points_y'], inplace=True)\n",
    "\n",
    "    # Add round no. and grand prix name\n",
    "    temp['round'] = rnd + 1\n",
    "    temp['race'] = race.removesuffix(' Grand Prix')\n",
    "    temp = temp[['round', 'race', 'driverCode', 'points']]  # Keep useful cols.\n",
    "    results.append(temp)\n",
    "\n",
    "# Append all races into a single dataframe\n",
    "results = pd.concat(results)\n",
    "races = results['race'].drop_duplicates()"
   ]
  },
  {
   "cell_type": "code",
   "execution_count": 6,
   "id": "e72af941-2da2-4c56-8f36-80bd3a60dd75",
   "metadata": {},
   "outputs": [],
   "source": [
    "# RE-SHAPE THE DATAFRAME\n",
    "results = results.pivot(index='driverCode', columns='round', values='points')\n",
    "# Here we have a 22-by-22 matrix (22 races and 22 drivers, incl. DEV and HUL)\n",
    "\n",
    "# Rank the drivers by their total points\n",
    "results['total_points'] = results.sum(axis=1)\n",
    "results = results.sort_values(by='total_points', ascending=False)\n",
    "results.drop(columns='total_points', inplace=True)\n",
    "\n",
    "# Use race name, instead of round no., as column names\n",
    "results.columns = races"
   ]
  },
  {
   "cell_type": "code",
   "execution_count": 7,
   "id": "7eeedb8f-718c-4c44-85e3-07b13622161f",
   "metadata": {},
   "outputs": [
    {
     "data": {
      "application/vnd.plotly.v1+json": {
       "config": {
        "plotlyServerURL": "https://plot.ly"
       },
       "data": [
        {
         "coloraxis": "coloraxis",
         "hovertemplate": "Race: %{x}<br>Driver: %{y}<br>Points: %{z}<extra></extra>",
         "name": "0",
         "texttemplate": "%{z}",
         "type": "heatmap",
         "x": [
          "Bahrain",
          "Saudi Arabian",
          "Australian",
          "Emilia Romagna",
          "Miami",
          "Spanish",
          "Monaco",
          "Azerbaijan",
          "Canadian",
          "British",
          "Austrian",
          "French",
          "Hungarian",
          "Belgian",
          "Dutch",
          "Italian",
          "Singapore",
          "Japanese",
          "United States",
          "Mexico City",
          "São Paulo",
          "Abu Dhabi"
         ],
         "xaxis": "x",
         "y": [
          "VER",
          "LEC",
          "PER",
          "RUS",
          "SAI",
          "HAM",
          "NOR",
          "OCO",
          "ALO",
          "BOT",
          "VET",
          "RIC",
          "MAG",
          "GAS",
          "STR",
          "TSU",
          "MSC",
          "ZHO",
          "ALB",
          "LAT",
          "DEV",
          "HUL"
         ],
         "yaxis": "y",
         "z": [
          [
           0,
           25,
           0,
           34,
           26,
           25,
           15,
           25,
           25,
           6,
           27,
           25,
           25,
           26,
           26,
           25,
           6,
           25,
           25,
           25,
           13,
           25
          ],
          [
           26,
           19,
           26,
           15,
           18,
           0,
           12,
           0,
           10,
           12,
           32,
           0,
           8,
           8,
           15,
           18,
           18,
           15,
           15,
           8,
           15,
           18
          ],
          [
           0,
           12,
           18,
           24,
           12,
           19,
           25,
           19,
           0,
           18,
           4,
           12,
           10,
           18,
           10,
           9,
           25,
           18,
           12,
           15,
           10,
           15
          ],
          [
           12,
           10,
           15,
           12,
           10,
           15,
           10,
           15,
           12,
           0,
           17,
           15,
           15,
           12,
           18,
           15,
           0,
           4,
           11,
           13,
           34,
           10
          ],
          [
           18,
           15,
           0,
           5,
           15,
           12,
           18,
           0,
           19,
           25,
           6,
           11,
           12,
           15,
           4,
           12,
           15,
           0,
           0,
           10,
           22,
           12
          ],
          [
           15,
           1,
           12,
           0,
           8,
           10,
           4,
           12,
           15,
           16,
           16,
           18,
           19,
           0,
           12,
           10,
           2,
           10,
           18,
           18,
           24,
           0
          ],
          [
           0,
           6,
           10,
           19,
           0,
           4,
           9,
           2,
           0,
           8,
           6,
           6,
           6,
           0,
           6,
           6,
           12,
           1,
           8,
           2,
           2,
           9
          ],
          [
           6,
           8,
           6,
           0,
           4,
           6,
           0,
           1,
           8,
           0,
           13,
           4,
           2,
           6,
           2,
           0,
           0,
           12,
           0,
           4,
           4,
           6
          ],
          [
           2,
           0,
           0,
           0,
           0,
           2,
           6,
           6,
           2,
           10,
           1,
           8,
           4,
           10,
           8,
           0,
           0,
           6,
           6,
           0,
           10,
           0
          ],
          [
           8,
           0,
           4,
           12,
           6,
           8,
           2,
           0,
           6,
           0,
           0,
           0,
           0,
           0,
           0,
           0,
           0,
           0,
           0,
           1,
           2,
           0
          ],
          [
           null,
           null,
           0,
           4,
           0,
           0,
           1,
           8,
           0,
           2,
           0,
           0,
           1,
           4,
           0,
           0,
           4,
           8,
           4,
           0,
           0,
           1
          ],
          [
           0,
           0,
           8,
           3,
           0,
           0,
           0,
           4,
           0,
           0,
           2,
           2,
           0,
           0,
           0,
           0,
           10,
           0,
           0,
           6,
           0,
           2
          ],
          [
           10,
           2,
           0,
           3,
           0,
           0,
           0,
           0,
           0,
           1,
           6,
           0,
           0,
           0,
           0,
           0,
           0,
           0,
           2,
           0,
           1,
           0
          ],
          [
           0,
           4,
           2,
           0,
           0,
           0,
           0,
           10,
           0,
           0,
           0,
           0,
           0,
           2,
           0,
           4,
           1,
           0,
           0,
           0,
           0,
           0
          ],
          [
           0,
           0,
           0,
           1,
           1,
           0,
           0,
           0,
           1,
           0,
           0,
           1,
           0,
           0,
           1,
           0,
           8,
           0,
           0,
           0,
           1,
           4
          ],
          [
           4,
           0,
           0,
           6,
           0,
           1,
           0,
           0,
           0,
           0,
           0,
           0,
           0,
           0,
           0,
           0,
           0,
           0,
           1,
           0,
           0,
           0
          ],
          [
           0,
           0,
           0,
           0,
           0,
           0,
           0,
           0,
           0,
           4,
           8,
           0,
           0,
           0,
           0,
           0,
           0,
           0,
           0,
           0,
           0,
           0
          ],
          [
           1,
           0,
           0,
           0,
           0,
           0,
           0,
           0,
           4,
           0,
           0,
           0,
           0,
           0,
           0,
           1,
           0,
           0,
           0,
           0,
           0,
           0
          ],
          [
           0,
           0,
           1,
           0,
           2,
           0,
           0,
           0,
           0,
           0,
           0,
           0,
           0,
           1,
           0,
           null,
           0,
           0,
           0,
           0,
           0,
           0
          ],
          [
           0,
           0,
           0,
           0,
           0,
           0,
           0,
           0,
           0,
           0,
           0,
           0,
           0,
           0,
           0,
           0,
           0,
           2,
           0,
           0,
           0,
           0
          ],
          [
           null,
           null,
           null,
           null,
           null,
           null,
           null,
           null,
           null,
           null,
           null,
           null,
           null,
           null,
           null,
           2,
           null,
           null,
           null,
           null,
           null,
           null
          ],
          [
           0,
           0,
           null,
           null,
           null,
           null,
           null,
           null,
           null,
           null,
           null,
           null,
           null,
           null,
           null,
           null,
           null,
           null,
           null,
           null,
           null,
           null
          ]
         ]
        }
       ],
       "layout": {
        "autosize": true,
        "coloraxis": {
         "colorbar": {
          "title": {
           "text": "Points"
          }
         },
         "colorscale": [
          [
           0,
           "rgb(198, 219, 239)"
          ],
          [
           0.25,
           "rgb(107, 174, 214)"
          ],
          [
           0.5,
           "rgb(33,  113, 181)"
          ],
          [
           0.75,
           "rgb(8,   81,  156)"
          ],
          [
           1,
           "rgb(8,   48,  107)"
          ]
         ],
         "showscale": false
        },
        "margin": {
         "b": 0,
         "l": 0,
         "r": 0,
         "t": 0
        },
        "plot_bgcolor": "rgba(0, 0, 0, 0)",
        "template": {
         "data": {
          "bar": [
           {
            "error_x": {
             "color": "#2a3f5f"
            },
            "error_y": {
             "color": "#2a3f5f"
            },
            "marker": {
             "line": {
              "color": "#E5ECF6",
              "width": 0.5
             },
             "pattern": {
              "fillmode": "overlay",
              "size": 10,
              "solidity": 0.2
             }
            },
            "type": "bar"
           }
          ],
          "barpolar": [
           {
            "marker": {
             "line": {
              "color": "#E5ECF6",
              "width": 0.5
             },
             "pattern": {
              "fillmode": "overlay",
              "size": 10,
              "solidity": 0.2
             }
            },
            "type": "barpolar"
           }
          ],
          "carpet": [
           {
            "aaxis": {
             "endlinecolor": "#2a3f5f",
             "gridcolor": "white",
             "linecolor": "white",
             "minorgridcolor": "white",
             "startlinecolor": "#2a3f5f"
            },
            "baxis": {
             "endlinecolor": "#2a3f5f",
             "gridcolor": "white",
             "linecolor": "white",
             "minorgridcolor": "white",
             "startlinecolor": "#2a3f5f"
            },
            "type": "carpet"
           }
          ],
          "choropleth": [
           {
            "colorbar": {
             "outlinewidth": 0,
             "ticks": ""
            },
            "type": "choropleth"
           }
          ],
          "contour": [
           {
            "colorbar": {
             "outlinewidth": 0,
             "ticks": ""
            },
            "colorscale": [
             [
              0,
              "#0d0887"
             ],
             [
              0.1111111111111111,
              "#46039f"
             ],
             [
              0.2222222222222222,
              "#7201a8"
             ],
             [
              0.3333333333333333,
              "#9c179e"
             ],
             [
              0.4444444444444444,
              "#bd3786"
             ],
             [
              0.5555555555555556,
              "#d8576b"
             ],
             [
              0.6666666666666666,
              "#ed7953"
             ],
             [
              0.7777777777777778,
              "#fb9f3a"
             ],
             [
              0.8888888888888888,
              "#fdca26"
             ],
             [
              1,
              "#f0f921"
             ]
            ],
            "type": "contour"
           }
          ],
          "contourcarpet": [
           {
            "colorbar": {
             "outlinewidth": 0,
             "ticks": ""
            },
            "type": "contourcarpet"
           }
          ],
          "heatmap": [
           {
            "colorbar": {
             "outlinewidth": 0,
             "ticks": ""
            },
            "colorscale": [
             [
              0,
              "#0d0887"
             ],
             [
              0.1111111111111111,
              "#46039f"
             ],
             [
              0.2222222222222222,
              "#7201a8"
             ],
             [
              0.3333333333333333,
              "#9c179e"
             ],
             [
              0.4444444444444444,
              "#bd3786"
             ],
             [
              0.5555555555555556,
              "#d8576b"
             ],
             [
              0.6666666666666666,
              "#ed7953"
             ],
             [
              0.7777777777777778,
              "#fb9f3a"
             ],
             [
              0.8888888888888888,
              "#fdca26"
             ],
             [
              1,
              "#f0f921"
             ]
            ],
            "type": "heatmap"
           }
          ],
          "heatmapgl": [
           {
            "colorbar": {
             "outlinewidth": 0,
             "ticks": ""
            },
            "colorscale": [
             [
              0,
              "#0d0887"
             ],
             [
              0.1111111111111111,
              "#46039f"
             ],
             [
              0.2222222222222222,
              "#7201a8"
             ],
             [
              0.3333333333333333,
              "#9c179e"
             ],
             [
              0.4444444444444444,
              "#bd3786"
             ],
             [
              0.5555555555555556,
              "#d8576b"
             ],
             [
              0.6666666666666666,
              "#ed7953"
             ],
             [
              0.7777777777777778,
              "#fb9f3a"
             ],
             [
              0.8888888888888888,
              "#fdca26"
             ],
             [
              1,
              "#f0f921"
             ]
            ],
            "type": "heatmapgl"
           }
          ],
          "histogram": [
           {
            "marker": {
             "pattern": {
              "fillmode": "overlay",
              "size": 10,
              "solidity": 0.2
             }
            },
            "type": "histogram"
           }
          ],
          "histogram2d": [
           {
            "colorbar": {
             "outlinewidth": 0,
             "ticks": ""
            },
            "colorscale": [
             [
              0,
              "#0d0887"
             ],
             [
              0.1111111111111111,
              "#46039f"
             ],
             [
              0.2222222222222222,
              "#7201a8"
             ],
             [
              0.3333333333333333,
              "#9c179e"
             ],
             [
              0.4444444444444444,
              "#bd3786"
             ],
             [
              0.5555555555555556,
              "#d8576b"
             ],
             [
              0.6666666666666666,
              "#ed7953"
             ],
             [
              0.7777777777777778,
              "#fb9f3a"
             ],
             [
              0.8888888888888888,
              "#fdca26"
             ],
             [
              1,
              "#f0f921"
             ]
            ],
            "type": "histogram2d"
           }
          ],
          "histogram2dcontour": [
           {
            "colorbar": {
             "outlinewidth": 0,
             "ticks": ""
            },
            "colorscale": [
             [
              0,
              "#0d0887"
             ],
             [
              0.1111111111111111,
              "#46039f"
             ],
             [
              0.2222222222222222,
              "#7201a8"
             ],
             [
              0.3333333333333333,
              "#9c179e"
             ],
             [
              0.4444444444444444,
              "#bd3786"
             ],
             [
              0.5555555555555556,
              "#d8576b"
             ],
             [
              0.6666666666666666,
              "#ed7953"
             ],
             [
              0.7777777777777778,
              "#fb9f3a"
             ],
             [
              0.8888888888888888,
              "#fdca26"
             ],
             [
              1,
              "#f0f921"
             ]
            ],
            "type": "histogram2dcontour"
           }
          ],
          "mesh3d": [
           {
            "colorbar": {
             "outlinewidth": 0,
             "ticks": ""
            },
            "type": "mesh3d"
           }
          ],
          "parcoords": [
           {
            "line": {
             "colorbar": {
              "outlinewidth": 0,
              "ticks": ""
             }
            },
            "type": "parcoords"
           }
          ],
          "pie": [
           {
            "automargin": true,
            "type": "pie"
           }
          ],
          "scatter": [
           {
            "fillpattern": {
             "fillmode": "overlay",
             "size": 10,
             "solidity": 0.2
            },
            "type": "scatter"
           }
          ],
          "scatter3d": [
           {
            "line": {
             "colorbar": {
              "outlinewidth": 0,
              "ticks": ""
             }
            },
            "marker": {
             "colorbar": {
              "outlinewidth": 0,
              "ticks": ""
             }
            },
            "type": "scatter3d"
           }
          ],
          "scattercarpet": [
           {
            "marker": {
             "colorbar": {
              "outlinewidth": 0,
              "ticks": ""
             }
            },
            "type": "scattercarpet"
           }
          ],
          "scattergeo": [
           {
            "marker": {
             "colorbar": {
              "outlinewidth": 0,
              "ticks": ""
             }
            },
            "type": "scattergeo"
           }
          ],
          "scattergl": [
           {
            "marker": {
             "colorbar": {
              "outlinewidth": 0,
              "ticks": ""
             }
            },
            "type": "scattergl"
           }
          ],
          "scattermapbox": [
           {
            "marker": {
             "colorbar": {
              "outlinewidth": 0,
              "ticks": ""
             }
            },
            "type": "scattermapbox"
           }
          ],
          "scatterpolar": [
           {
            "marker": {
             "colorbar": {
              "outlinewidth": 0,
              "ticks": ""
             }
            },
            "type": "scatterpolar"
           }
          ],
          "scatterpolargl": [
           {
            "marker": {
             "colorbar": {
              "outlinewidth": 0,
              "ticks": ""
             }
            },
            "type": "scatterpolargl"
           }
          ],
          "scatterternary": [
           {
            "marker": {
             "colorbar": {
              "outlinewidth": 0,
              "ticks": ""
             }
            },
            "type": "scatterternary"
           }
          ],
          "surface": [
           {
            "colorbar": {
             "outlinewidth": 0,
             "ticks": ""
            },
            "colorscale": [
             [
              0,
              "#0d0887"
             ],
             [
              0.1111111111111111,
              "#46039f"
             ],
             [
              0.2222222222222222,
              "#7201a8"
             ],
             [
              0.3333333333333333,
              "#9c179e"
             ],
             [
              0.4444444444444444,
              "#bd3786"
             ],
             [
              0.5555555555555556,
              "#d8576b"
             ],
             [
              0.6666666666666666,
              "#ed7953"
             ],
             [
              0.7777777777777778,
              "#fb9f3a"
             ],
             [
              0.8888888888888888,
              "#fdca26"
             ],
             [
              1,
              "#f0f921"
             ]
            ],
            "type": "surface"
           }
          ],
          "table": [
           {
            "cells": {
             "fill": {
              "color": "#EBF0F8"
             },
             "line": {
              "color": "white"
             }
            },
            "header": {
             "fill": {
              "color": "#C8D4E3"
             },
             "line": {
              "color": "white"
             }
            },
            "type": "table"
           }
          ]
         },
         "layout": {
          "annotationdefaults": {
           "arrowcolor": "#2a3f5f",
           "arrowhead": 0,
           "arrowwidth": 1
          },
          "autotypenumbers": "strict",
          "coloraxis": {
           "colorbar": {
            "outlinewidth": 0,
            "ticks": ""
           }
          },
          "colorscale": {
           "diverging": [
            [
             0,
             "#8e0152"
            ],
            [
             0.1,
             "#c51b7d"
            ],
            [
             0.2,
             "#de77ae"
            ],
            [
             0.3,
             "#f1b6da"
            ],
            [
             0.4,
             "#fde0ef"
            ],
            [
             0.5,
             "#f7f7f7"
            ],
            [
             0.6,
             "#e6f5d0"
            ],
            [
             0.7,
             "#b8e186"
            ],
            [
             0.8,
             "#7fbc41"
            ],
            [
             0.9,
             "#4d9221"
            ],
            [
             1,
             "#276419"
            ]
           ],
           "sequential": [
            [
             0,
             "#0d0887"
            ],
            [
             0.1111111111111111,
             "#46039f"
            ],
            [
             0.2222222222222222,
             "#7201a8"
            ],
            [
             0.3333333333333333,
             "#9c179e"
            ],
            [
             0.4444444444444444,
             "#bd3786"
            ],
            [
             0.5555555555555556,
             "#d8576b"
            ],
            [
             0.6666666666666666,
             "#ed7953"
            ],
            [
             0.7777777777777778,
             "#fb9f3a"
            ],
            [
             0.8888888888888888,
             "#fdca26"
            ],
            [
             1,
             "#f0f921"
            ]
           ],
           "sequentialminus": [
            [
             0,
             "#0d0887"
            ],
            [
             0.1111111111111111,
             "#46039f"
            ],
            [
             0.2222222222222222,
             "#7201a8"
            ],
            [
             0.3333333333333333,
             "#9c179e"
            ],
            [
             0.4444444444444444,
             "#bd3786"
            ],
            [
             0.5555555555555556,
             "#d8576b"
            ],
            [
             0.6666666666666666,
             "#ed7953"
            ],
            [
             0.7777777777777778,
             "#fb9f3a"
            ],
            [
             0.8888888888888888,
             "#fdca26"
            ],
            [
             1,
             "#f0f921"
            ]
           ]
          },
          "colorway": [
           "#636efa",
           "#EF553B",
           "#00cc96",
           "#ab63fa",
           "#FFA15A",
           "#19d3f3",
           "#FF6692",
           "#B6E880",
           "#FF97FF",
           "#FECB52"
          ],
          "font": {
           "color": "#2a3f5f"
          },
          "geo": {
           "bgcolor": "white",
           "lakecolor": "white",
           "landcolor": "#E5ECF6",
           "showlakes": true,
           "showland": true,
           "subunitcolor": "white"
          },
          "hoverlabel": {
           "align": "left"
          },
          "hovermode": "closest",
          "mapbox": {
           "style": "light"
          },
          "paper_bgcolor": "white",
          "plot_bgcolor": "#E5ECF6",
          "polar": {
           "angularaxis": {
            "gridcolor": "white",
            "linecolor": "white",
            "ticks": ""
           },
           "bgcolor": "#E5ECF6",
           "radialaxis": {
            "gridcolor": "white",
            "linecolor": "white",
            "ticks": ""
           }
          },
          "scene": {
           "xaxis": {
            "backgroundcolor": "#E5ECF6",
            "gridcolor": "white",
            "gridwidth": 2,
            "linecolor": "white",
            "showbackground": true,
            "ticks": "",
            "zerolinecolor": "white"
           },
           "yaxis": {
            "backgroundcolor": "#E5ECF6",
            "gridcolor": "white",
            "gridwidth": 2,
            "linecolor": "white",
            "showbackground": true,
            "ticks": "",
            "zerolinecolor": "white"
           },
           "zaxis": {
            "backgroundcolor": "#E5ECF6",
            "gridcolor": "white",
            "gridwidth": 2,
            "linecolor": "white",
            "showbackground": true,
            "ticks": "",
            "zerolinecolor": "white"
           }
          },
          "shapedefaults": {
           "line": {
            "color": "#2a3f5f"
           }
          },
          "ternary": {
           "aaxis": {
            "gridcolor": "white",
            "linecolor": "white",
            "ticks": ""
           },
           "baxis": {
            "gridcolor": "white",
            "linecolor": "white",
            "ticks": ""
           },
           "bgcolor": "#E5ECF6",
           "caxis": {
            "gridcolor": "white",
            "linecolor": "white",
            "ticks": ""
           }
          },
          "title": {
           "x": 0.05
          },
          "xaxis": {
           "automargin": true,
           "gridcolor": "white",
           "linecolor": "white",
           "ticks": "",
           "title": {
            "standoff": 15
           },
           "zerolinecolor": "white",
           "zerolinewidth": 2
          },
          "yaxis": {
           "automargin": true,
           "gridcolor": "white",
           "linecolor": "white",
           "ticks": "",
           "title": {
            "standoff": 15
           },
           "zerolinecolor": "white",
           "zerolinewidth": 2
          }
         }
        },
        "xaxis": {
         "anchor": "y",
         "autorange": true,
         "domain": [
          0,
          1
         ],
         "range": [
          -0.5,
          21.5
         ],
         "showgrid": false,
         "showline": false,
         "side": "top",
         "title": {
          "text": ""
         },
         "type": "category"
        },
        "yaxis": {
         "anchor": "x",
         "autorange": true,
         "domain": [
          0,
          1
         ],
         "gridcolor": "LightGrey",
         "gridwidth": 1,
         "range": [
          21.5,
          -0.5
         ],
         "showgrid": true,
         "showline": false,
         "tickmode": "linear",
         "tickson": "boundaries",
         "title": {
          "text": ""
         },
         "type": "category"
        }
       }
      },
      "image/png": "[encoded data removed]",
      "text/html": [
       "<div>                            <div id=\"9240a869-64f8-492c-9cc6-c8d7e7b6f64d\" class=\"plotly-graph-div\" style=\"height:525px; width:100%;\"></div>            <script type=\"text/javascript\">                require([\"plotly\"], function(Plotly) {                    window.PLOTLYENV=window.PLOTLYENV || {};                                    if (document.getElementById(\"9240a869-64f8-492c-9cc6-c8d7e7b6f64d\")) {                    Plotly.newPlot(                        \"9240a869-64f8-492c-9cc6-c8d7e7b6f64d\",                        [{\"coloraxis\":\"coloraxis\",\"name\":\"0\",\"texttemplate\":\"%{z}\",\"x\":[\"Bahrain\",\"Saudi Arabian\",\"Australian\",\"Emilia Romagna\",\"Miami\",\"Spanish\",\"Monaco\",\"Azerbaijan\",\"Canadian\",\"British\",\"Austrian\",\"French\",\"Hungarian\",\"Belgian\",\"Dutch\",\"Italian\",\"Singapore\",\"Japanese\",\"United States\",\"Mexico City\",\"S\\u00e3o Paulo\",\"Abu Dhabi\"],\"y\":[\"VER\",\"LEC\",\"PER\",\"RUS\",\"SAI\",\"HAM\",\"NOR\",\"OCO\",\"ALO\",\"BOT\",\"VET\",\"RIC\",\"MAG\",\"GAS\",\"STR\",\"TSU\",\"MSC\",\"ZHO\",\"ALB\",\"LAT\",\"DEV\",\"HUL\"],\"z\":[[0.0,25.0,0.0,34.0,26.0,25.0,15.0,25.0,25.0,6.0,27.0,25.0,25.0,26.0,26.0,25.0,6.0,25.0,25.0,25.0,13.0,25.0],[26.0,19.0,26.0,15.0,18.0,0.0,12.0,0.0,10.0,12.0,32.0,0.0,8.0,8.0,15.0,18.0,18.0,15.0,15.0,8.0,15.0,18.0],[0.0,12.0,18.0,24.0,12.0,19.0,25.0,19.0,0.0,18.0,4.0,12.0,10.0,18.0,10.0,9.0,25.0,18.0,12.0,15.0,10.0,15.0],[12.0,10.0,15.0,12.0,10.0,15.0,10.0,15.0,12.0,0.0,17.0,15.0,15.0,12.0,18.0,15.0,0.0,4.0,11.0,13.0,34.0,10.0],[18.0,15.0,0.0,5.0,15.0,12.0,18.0,0.0,19.0,25.0,6.0,11.0,12.0,15.0,4.0,12.0,15.0,0.0,0.0,10.0,22.0,12.0],[15.0,1.0,12.0,0.0,8.0,10.0,4.0,12.0,15.0,16.0,16.0,18.0,19.0,0.0,12.0,10.0,2.0,10.0,18.0,18.0,24.0,0.0],[0.0,6.0,10.0,19.0,0.0,4.0,9.0,2.0,0.0,8.0,6.0,6.0,6.0,0.0,6.0,6.0,12.0,1.0,8.0,2.0,2.0,9.0],[6.0,8.0,6.0,0.0,4.0,6.0,0.0,1.0,8.0,0.0,13.0,4.0,2.0,6.0,2.0,0.0,0.0,12.0,0.0,4.0,4.0,6.0],[2.0,0.0,0.0,0.0,0.0,2.0,6.0,6.0,2.0,10.0,1.0,8.0,4.0,10.0,8.0,0.0,0.0,6.0,6.0,0.0,10.0,0.0],[8.0,0.0,4.0,12.0,6.0,8.0,2.0,0.0,6.0,0.0,0.0,0.0,0.0,0.0,0.0,0.0,0.0,0.0,0.0,1.0,2.0,0.0],[null,null,0.0,4.0,0.0,0.0,1.0,8.0,0.0,2.0,0.0,0.0,1.0,4.0,0.0,0.0,4.0,8.0,4.0,0.0,0.0,1.0],[0.0,0.0,8.0,3.0,0.0,0.0,0.0,4.0,0.0,0.0,2.0,2.0,0.0,0.0,0.0,0.0,10.0,0.0,0.0,6.0,0.0,2.0],[10.0,2.0,0.0,3.0,0.0,0.0,0.0,0.0,0.0,1.0,6.0,0.0,0.0,0.0,0.0,0.0,0.0,0.0,2.0,0.0,1.0,0.0],[0.0,4.0,2.0,0.0,0.0,0.0,0.0,10.0,0.0,0.0,0.0,0.0,0.0,2.0,0.0,4.0,1.0,0.0,0.0,0.0,0.0,0.0],[0.0,0.0,0.0,1.0,1.0,0.0,0.0,0.0,1.0,0.0,0.0,1.0,0.0,0.0,1.0,0.0,8.0,0.0,0.0,0.0,1.0,4.0],[4.0,0.0,0.0,6.0,0.0,1.0,0.0,0.0,0.0,0.0,0.0,0.0,0.0,0.0,0.0,0.0,0.0,0.0,1.0,0.0,0.0,0.0],[0.0,0.0,0.0,0.0,0.0,0.0,0.0,0.0,0.0,4.0,8.0,0.0,0.0,0.0,0.0,0.0,0.0,0.0,0.0,0.0,0.0,0.0],[1.0,0.0,0.0,0.0,0.0,0.0,0.0,0.0,4.0,0.0,0.0,0.0,0.0,0.0,0.0,1.0,0.0,0.0,0.0,0.0,0.0,0.0],[0.0,0.0,1.0,0.0,2.0,0.0,0.0,0.0,0.0,0.0,0.0,0.0,0.0,1.0,0.0,null,0.0,0.0,0.0,0.0,0.0,0.0],[0.0,0.0,0.0,0.0,0.0,0.0,0.0,0.0,0.0,0.0,0.0,0.0,0.0,0.0,0.0,0.0,0.0,2.0,0.0,0.0,0.0,0.0],[null,null,null,null,null,null,null,null,null,null,null,null,null,null,null,2.0,null,null,null,null,null,null],[0.0,0.0,null,null,null,null,null,null,null,null,null,null,null,null,null,null,null,null,null,null,null,null]],\"type\":\"heatmap\",\"xaxis\":\"x\",\"yaxis\":\"y\",\"hovertemplate\":\"Race: %{x}\\u003cbr\\u003eDriver: %{y}\\u003cbr\\u003ePoints: %{z}\\u003cextra\\u003e\\u003c\\u002fextra\\u003e\"}],                        {\"template\":{\"data\":{\"histogram2dcontour\":[{\"type\":\"histogram2dcontour\",\"colorbar\":{\"outlinewidth\":0,\"ticks\":\"\"},\"colorscale\":[[0.0,\"#0d0887\"],[0.1111111111111111,\"#46039f\"],[0.2222222222222222,\"#7201a8\"],[0.3333333333333333,\"#9c179e\"],[0.4444444444444444,\"#bd3786\"],[0.5555555555555556,\"#d8576b\"],[0.6666666666666666,\"#ed7953\"],[0.7777777777777778,\"#fb9f3a\"],[0.8888888888888888,\"#fdca26\"],[1.0,\"#f0f921\"]]}],\"choropleth\":[{\"type\":\"choropleth\",\"colorbar\":{\"outlinewidth\":0,\"ticks\":\"\"}}],\"histogram2d\":[{\"type\":\"histogram2d\",\"colorbar\":{\"outlinewidth\":0,\"ticks\":\"\"},\"colorscale\":[[0.0,\"#0d0887\"],[0.1111111111111111,\"#46039f\"],[0.2222222222222222,\"#7201a8\"],[0.3333333333333333,\"#9c179e\"],[0.4444444444444444,\"#bd3786\"],[0.5555555555555556,\"#d8576b\"],[0.6666666666666666,\"#ed7953\"],[0.7777777777777778,\"#fb9f3a\"],[0.8888888888888888,\"#fdca26\"],[1.0,\"#f0f921\"]]}],\"heatmap\":[{\"type\":\"heatmap\",\"colorbar\":{\"outlinewidth\":0,\"ticks\":\"\"},\"colorscale\":[[0.0,\"#0d0887\"],[0.1111111111111111,\"#46039f\"],[0.2222222222222222,\"#7201a8\"],[0.3333333333333333,\"#9c179e\"],[0.4444444444444444,\"#bd3786\"],[0.5555555555555556,\"#d8576b\"],[0.6666666666666666,\"#ed7953\"],[0.7777777777777778,\"#fb9f3a\"],[0.8888888888888888,\"#fdca26\"],[1.0,\"#f0f921\"]]}],\"heatmapgl\":[{\"type\":\"heatmapgl\",\"colorbar\":{\"outlinewidth\":0,\"ticks\":\"\"},\"colorscale\":[[0.0,\"#0d0887\"],[0.1111111111111111,\"#46039f\"],[0.2222222222222222,\"#7201a8\"],[0.3333333333333333,\"#9c179e\"],[0.4444444444444444,\"#bd3786\"],[0.5555555555555556,\"#d8576b\"],[0.6666666666666666,\"#ed7953\"],[0.7777777777777778,\"#fb9f3a\"],[0.8888888888888888,\"#fdca26\"],[1.0,\"#f0f921\"]]}],\"contourcarpet\":[{\"type\":\"contourcarpet\",\"colorbar\":{\"outlinewidth\":0,\"ticks\":\"\"}}],\"contour\":[{\"type\":\"contour\",\"colorbar\":{\"outlinewidth\":0,\"ticks\":\"\"},\"colorscale\":[[0.0,\"#0d0887\"],[0.1111111111111111,\"#46039f\"],[0.2222222222222222,\"#7201a8\"],[0.3333333333333333,\"#9c179e\"],[0.4444444444444444,\"#bd3786\"],[0.5555555555555556,\"#d8576b\"],[0.6666666666666666,\"#ed7953\"],[0.7777777777777778,\"#fb9f3a\"],[0.8888888888888888,\"#fdca26\"],[1.0,\"#f0f921\"]]}],\"surface\":[{\"type\":\"surface\",\"colorbar\":{\"outlinewidth\":0,\"ticks\":\"\"},\"colorscale\":[[0.0,\"#0d0887\"],[0.1111111111111111,\"#46039f\"],[0.2222222222222222,\"#7201a8\"],[0.3333333333333333,\"#9c179e\"],[0.4444444444444444,\"#bd3786\"],[0.5555555555555556,\"#d8576b\"],[0.6666666666666666,\"#ed7953\"],[0.7777777777777778,\"#fb9f3a\"],[0.8888888888888888,\"#fdca26\"],[1.0,\"#f0f921\"]]}],\"mesh3d\":[{\"type\":\"mesh3d\",\"colorbar\":{\"outlinewidth\":0,\"ticks\":\"\"}}],\"scatter\":[{\"fillpattern\":{\"fillmode\":\"overlay\",\"size\":10,\"solidity\":0.2},\"type\":\"scatter\"}],\"parcoords\":[{\"type\":\"parcoords\",\"line\":{\"colorbar\":{\"outlinewidth\":0,\"ticks\":\"\"}}}],\"scatterpolargl\":[{\"type\":\"scatterpolargl\",\"marker\":{\"colorbar\":{\"outlinewidth\":0,\"ticks\":\"\"}}}],\"bar\":[{\"error_x\":{\"color\":\"#2a3f5f\"},\"error_y\":{\"color\":\"#2a3f5f\"},\"marker\":{\"line\":{\"color\":\"#E5ECF6\",\"width\":0.5},\"pattern\":{\"fillmode\":\"overlay\",\"size\":10,\"solidity\":0.2}},\"type\":\"bar\"}],\"scattergeo\":[{\"type\":\"scattergeo\",\"marker\":{\"colorbar\":{\"outlinewidth\":0,\"ticks\":\"\"}}}],\"scatterpolar\":[{\"type\":\"scatterpolar\",\"marker\":{\"colorbar\":{\"outlinewidth\":0,\"ticks\":\"\"}}}],\"histogram\":[{\"marker\":{\"pattern\":{\"fillmode\":\"overlay\",\"size\":10,\"solidity\":0.2}},\"type\":\"histogram\"}],\"scattergl\":[{\"type\":\"scattergl\",\"marker\":{\"colorbar\":{\"outlinewidth\":0,\"ticks\":\"\"}}}],\"scatter3d\":[{\"type\":\"scatter3d\",\"line\":{\"colorbar\":{\"outlinewidth\":0,\"ticks\":\"\"}},\"marker\":{\"colorbar\":{\"outlinewidth\":0,\"ticks\":\"\"}}}],\"scattermapbox\":[{\"type\":\"scattermapbox\",\"marker\":{\"colorbar\":{\"outlinewidth\":0,\"ticks\":\"\"}}}],\"scatterternary\":[{\"type\":\"scatterternary\",\"marker\":{\"colorbar\":{\"outlinewidth\":0,\"ticks\":\"\"}}}],\"scattercarpet\":[{\"type\":\"scattercarpet\",\"marker\":{\"colorbar\":{\"outlinewidth\":0,\"ticks\":\"\"}}}],\"carpet\":[{\"aaxis\":{\"endlinecolor\":\"#2a3f5f\",\"gridcolor\":\"white\",\"linecolor\":\"white\",\"minorgridcolor\":\"white\",\"startlinecolor\":\"#2a3f5f\"},\"baxis\":{\"endlinecolor\":\"#2a3f5f\",\"gridcolor\":\"white\",\"linecolor\":\"white\",\"minorgridcolor\":\"white\",\"startlinecolor\":\"#2a3f5f\"},\"type\":\"carpet\"}],\"table\":[{\"cells\":{\"fill\":{\"color\":\"#EBF0F8\"},\"line\":{\"color\":\"white\"}},\"header\":{\"fill\":{\"color\":\"#C8D4E3\"},\"line\":{\"color\":\"white\"}},\"type\":\"table\"}],\"barpolar\":[{\"marker\":{\"line\":{\"color\":\"#E5ECF6\",\"width\":0.5},\"pattern\":{\"fillmode\":\"overlay\",\"size\":10,\"solidity\":0.2}},\"type\":\"barpolar\"}],\"pie\":[{\"automargin\":true,\"type\":\"pie\"}]},\"layout\":{\"autotypenumbers\":\"strict\",\"colorway\":[\"#636efa\",\"#EF553B\",\"#00cc96\",\"#ab63fa\",\"#FFA15A\",\"#19d3f3\",\"#FF6692\",\"#B6E880\",\"#FF97FF\",\"#FECB52\"],\"font\":{\"color\":\"#2a3f5f\"},\"hovermode\":\"closest\",\"hoverlabel\":{\"align\":\"left\"},\"paper_bgcolor\":\"white\",\"plot_bgcolor\":\"#E5ECF6\",\"polar\":{\"bgcolor\":\"#E5ECF6\",\"angularaxis\":{\"gridcolor\":\"white\",\"linecolor\":\"white\",\"ticks\":\"\"},\"radialaxis\":{\"gridcolor\":\"white\",\"linecolor\":\"white\",\"ticks\":\"\"}},\"ternary\":{\"bgcolor\":\"#E5ECF6\",\"aaxis\":{\"gridcolor\":\"white\",\"linecolor\":\"white\",\"ticks\":\"\"},\"baxis\":{\"gridcolor\":\"white\",\"linecolor\":\"white\",\"ticks\":\"\"},\"caxis\":{\"gridcolor\":\"white\",\"linecolor\":\"white\",\"ticks\":\"\"}},\"coloraxis\":{\"colorbar\":{\"outlinewidth\":0,\"ticks\":\"\"}},\"colorscale\":{\"sequential\":[[0.0,\"#0d0887\"],[0.1111111111111111,\"#46039f\"],[0.2222222222222222,\"#7201a8\"],[0.3333333333333333,\"#9c179e\"],[0.4444444444444444,\"#bd3786\"],[0.5555555555555556,\"#d8576b\"],[0.6666666666666666,\"#ed7953\"],[0.7777777777777778,\"#fb9f3a\"],[0.8888888888888888,\"#fdca26\"],[1.0,\"#f0f921\"]],\"sequentialminus\":[[0.0,\"#0d0887\"],[0.1111111111111111,\"#46039f\"],[0.2222222222222222,\"#7201a8\"],[0.3333333333333333,\"#9c179e\"],[0.4444444444444444,\"#bd3786\"],[0.5555555555555556,\"#d8576b\"],[0.6666666666666666,\"#ed7953\"],[0.7777777777777778,\"#fb9f3a\"],[0.8888888888888888,\"#fdca26\"],[1.0,\"#f0f921\"]],\"diverging\":[[0,\"#8e0152\"],[0.1,\"#c51b7d\"],[0.2,\"#de77ae\"],[0.3,\"#f1b6da\"],[0.4,\"#fde0ef\"],[0.5,\"#f7f7f7\"],[0.6,\"#e6f5d0\"],[0.7,\"#b8e186\"],[0.8,\"#7fbc41\"],[0.9,\"#4d9221\"],[1,\"#276419\"]]},\"xaxis\":{\"gridcolor\":\"white\",\"linecolor\":\"white\",\"ticks\":\"\",\"title\":{\"standoff\":15},\"zerolinecolor\":\"white\",\"automargin\":true,\"zerolinewidth\":2},\"yaxis\":{\"gridcolor\":\"white\",\"linecolor\":\"white\",\"ticks\":\"\",\"title\":{\"standoff\":15},\"zerolinecolor\":\"white\",\"automargin\":true,\"zerolinewidth\":2},\"scene\":{\"xaxis\":{\"backgroundcolor\":\"#E5ECF6\",\"gridcolor\":\"white\",\"linecolor\":\"white\",\"showbackground\":true,\"ticks\":\"\",\"zerolinecolor\":\"white\",\"gridwidth\":2},\"yaxis\":{\"backgroundcolor\":\"#E5ECF6\",\"gridcolor\":\"white\",\"linecolor\":\"white\",\"showbackground\":true,\"ticks\":\"\",\"zerolinecolor\":\"white\",\"gridwidth\":2},\"zaxis\":{\"backgroundcolor\":\"#E5ECF6\",\"gridcolor\":\"white\",\"linecolor\":\"white\",\"showbackground\":true,\"ticks\":\"\",\"zerolinecolor\":\"white\",\"gridwidth\":2}},\"shapedefaults\":{\"line\":{\"color\":\"#2a3f5f\"}},\"annotationdefaults\":{\"arrowcolor\":\"#2a3f5f\",\"arrowhead\":0,\"arrowwidth\":1},\"geo\":{\"bgcolor\":\"white\",\"landcolor\":\"#E5ECF6\",\"subunitcolor\":\"white\",\"showland\":true,\"showlakes\":true,\"lakecolor\":\"white\"},\"title\":{\"x\":0.05},\"mapbox\":{\"style\":\"light\"}}},\"xaxis\":{\"anchor\":\"y\",\"domain\":[0.0,1.0],\"title\":{\"text\":\"\"},\"showgrid\":false,\"showline\":false,\"side\":\"top\"},\"yaxis\":{\"anchor\":\"x\",\"domain\":[0.0,1.0],\"autorange\":\"reversed\",\"title\":{\"text\":\"\"},\"tickmode\":\"linear\",\"showgrid\":true,\"gridwidth\":1,\"gridcolor\":\"LightGrey\",\"showline\":false,\"tickson\":\"boundaries\"},\"coloraxis\":{\"colorbar\":{\"title\":{\"text\":\"Points\"}},\"colorscale\":[[0,\"rgb(198, 219, 239)\"],[0.25,\"rgb(107, 174, 214)\"],[0.5,\"rgb(33,  113, 181)\"],[0.75,\"rgb(8,   81,  156)\"],[1,\"rgb(8,   48,  107)\"]],\"showscale\":false},\"margin\":{\"t\":0,\"l\":0,\"r\":0,\"b\":0},\"plot_bgcolor\":\"rgba(0,0,0,0)\"},                        {\"responsive\": true}                    ).then(function(){\n",
       "                            \n",
       "var gd = document.getElementById('9240a869-64f8-492c-9cc6-c8d7e7b6f64d');\n",
       "var x = new MutationObserver(function (mutations, observer) {{\n",
       "        var display = window.getComputedStyle(gd).display;\n",
       "        if (!display || display === 'none') {{\n",
       "            console.log([gd, 'removed!']);\n",
       "            Plotly.purge(gd);\n",
       "            observer.disconnect();\n",
       "        }}\n",
       "}});\n",
       "\n",
       "// Listen for the removal of the full notebook cells\n",
       "var notebookContainer = gd.closest('#notebook-container');\n",
       "if (notebookContainer) {{\n",
       "    x.observe(notebookContainer, {childList: true});\n",
       "}}\n",
       "\n",
       "// Listen for the clearing of the current output cell\n",
       "var outputEl = gd.closest('.output');\n",
       "if (outputEl) {{\n",
       "    x.observe(outputEl, {childList: true});\n",
       "}}\n",
       "\n",
       "                        })                };                });            </script>        </div>"
      ]
     },
     "metadata": {},
     "output_type": "display_data"
    }
   ],
   "source": [
    "# PLOT\n",
    "fig = px.imshow(\n",
    "    results,\n",
    "    text_auto=True,\n",
    "    aspect='auto',  # Automatically adjust the aspect ratio\n",
    "    color_continuous_scale=[[0,    'rgb(198, 219, 239)'],  # Blue scale\n",
    "                            [0.25, 'rgb(107, 174, 214)'],\n",
    "                            [0.5,  'rgb(33,  113, 181)'],\n",
    "                            [0.75, 'rgb(8,   81,  156)'],\n",
    "                            [1,    'rgb(8,   48,  107)']],\n",
    "    labels={'x': 'Race',\n",
    "            'y': 'Driver',\n",
    "            'color': 'Points'}       # Change hover texts\n",
    ")\n",
    "fig.update_xaxes(title_text='')      # Remove axis titles\n",
    "fig.update_yaxes(title_text='')\n",
    "fig.update_yaxes(tickmode='linear')  # Show all ticks, i.e. driver names\n",
    "fig.update_yaxes(showgrid=True, gridwidth=1, gridcolor='LightGrey',\n",
    "                 showline=False,\n",
    "                 tickson='boundaries')              # Show horizontal grid only\n",
    "fig.update_xaxes(showgrid=False, showline=False)    # And remove vertical grid\n",
    "fig.update_layout(plot_bgcolor='rgba(0,0,0,0)')     # White background\n",
    "fig.update_layout(coloraxis_showscale=False)        # Remove legend\n",
    "fig.update_layout(xaxis=dict(side='top'))           # x-axis on top\n",
    "fig.update_layout(margin=dict(l=0, r=0, b=0, t=0))  # Remove border margins\n",
    "fig\n",
    "show(fig)"
   ]
  },
  {
   "cell_type": "markdown",
   "id": "dad3605b-c3c6-47e4-9556-969b00c87475",
   "metadata": {},
   "source": [
    "## Team pace comparison"
   ]
  },
  {
   "cell_type": "code",
   "execution_count": 8,
   "id": "9092c1e0-fcff-4e7c-bafd-b99ba4fa7c17",
   "metadata": {},
   "outputs": [
    {
     "name": "stderr",
     "output_type": "stream",
     "text": [
      "core           INFO \tLoading data for Bahrain Grand Prix - Race [v3.3.5]\n",
      "req            INFO \tUsing cached data for session_info\n",
      "req            INFO \tUsing cached data for driver_info\n",
      "req            INFO \tUsing cached data for session_status_data\n",
      "req            INFO \tUsing cached data for lap_count\n",
      "req            INFO \tUsing cached data for track_status_data\n",
      "req            INFO \tUsing cached data for _extended_timing_data\n",
      "req            INFO \tUsing cached data for timing_app_data\n",
      "core           INFO \tProcessing timing data...\n",
      "req            INFO \tUsing cached data for car_data\n",
      "req            INFO \tUsing cached data for position_data\n",
      "req            INFO \tUsing cached data for weather_data\n",
      "req            INFO \tUsing cached data for race_control_messages\n",
      "core           INFO \tFinished loading data for 20 drivers: ['1', '11', '55', '16', '63', '4', '44', '81', '14', '18', '24', '20', '3', '22', '23', '27', '31', '10', '77', '2']\n"
     ]
    },
    {
     "name": "stdout",
     "output_type": "stream",
     "text": [
      "Index(['Red Bull Racing', 'Ferrari', 'McLaren', 'Mercedes', 'Haas F1 Team',\n",
      "       'Aston Martin', 'Kick Sauber', 'Alpine', 'RB', 'Williams'],\n",
      "      dtype='object', name='Team')\n"
     ]
    },
    {
     "data": {
      "image/png": "[encoded data removed]",
      "text/plain": [
       "<Figure size 1500x1000 with 1 Axes>"
      ]
     },
     "metadata": {},
     "output_type": "display_data"
    }
   ],
   "source": [
    "race = fastf1.get_session(2024, 1, 'R')\n",
    "race.load()\n",
    "laps = race.laps.pick_quicklaps() # get all laps within 107% of fastest lap\n",
    "    # use `pick_wo_box()` for races w/ mixed conditions\n",
    "\n",
    "# Convert the lap time column from timedelta to integer. This is a seaborn-specific modification\n",
    "transformed_laps = laps.copy()\n",
    "transformed_laps.loc[:, \"LapTime (s)\"] = laps[\"LapTime\"].dt.total_seconds()\n",
    "\n",
    "# order the team from the fastest (lowest median lap time) tp slower\n",
    "team_order = (\n",
    "    transformed_laps[[\"Team\", \"LapTime (s)\"]]\n",
    "    .groupby(\"Team\")\n",
    "    .median()[\"LapTime (s)\"]\n",
    "    .sort_values()\n",
    "    .index\n",
    ")\n",
    "print(team_order)\n",
    "team_palette = {team: fastf1.plotting.team_color(team) for team in team_order}\n",
    "\n",
    "fig, ax = plt.subplots(figsize=(15, 10))\n",
    "sns.boxplot(\n",
    "    data=transformed_laps,\n",
    "    x=\"Team\",\n",
    "    y=\"LapTime (s)\",\n",
    "    hue=\"Team\",\n",
    "    order=team_order,\n",
    "    palette=team_palette,\n",
    "    whiskerprops=dict(color=\"black\"),\n",
    "    boxprops=dict(edgecolor=\"black\"),\n",
    "    medianprops=dict(color=\"grey\"),\n",
    "    capprops=dict(color=\"black\"),\n",
    ")\n",
    "\n",
    "plt.title(\"2023 British Grand Prix\")\n",
    "plt.grid(visible=False)\n",
    "\n",
    "# x-label is redundant\n",
    "ax.set(xlabel=None)\n",
    "plt.tight_layout()\n",
    "plt.show()"
   ]
  },
  {
   "cell_type": "markdown",
   "id": "01b1c872-2e0b-46de-aa04-b826973f133d",
   "metadata": {},
   "source": [
    "## Position changes during a race"
   ]
  },
  {
   "cell_type": "code",
   "execution_count": 8,
   "id": "c0f9a18f-206d-4375-a2b9-18a7320288f8",
   "metadata": {},
   "outputs": [
    {
     "name": "stderr",
     "output_type": "stream",
     "text": [
      "core           INFO \tLoading data for Bahrain Grand Prix - Race [v3.3.5]\n",
      "req            INFO \tUsing cached data for session_info\n",
      "req            INFO \tUsing cached data for driver_info\n",
      "req            INFO \tUsing cached data for session_status_data\n",
      "req            INFO \tUsing cached data for lap_count\n",
      "req            INFO \tUsing cached data for track_status_data\n",
      "req            INFO \tUsing cached data for _extended_timing_data\n",
      "req            INFO \tUsing cached data for timing_app_data\n",
      "core           INFO \tProcessing timing data...\n",
      "req            INFO \tUsing cached data for race_control_messages\n",
      "core           INFO \tFinished loading data for 20 drivers: ['1', '11', '14', '55', '44', '18', '63', '77', '10', '23', '22', '2', '20', '21', '27', '24', '4', '31', '16', '81']\n"
     ]
    }
   ],
   "source": [
    "fastf1.plotting.setup_mpl(misc_mpl_mods=False)\n",
    "\n",
    "session = fastf1.get_session(2023, 1, 'R')\n",
    "session.load(telemetry=False, weather=False)"
   ]
  },
  {
   "cell_type": "code",
   "execution_count": 21,
   "id": "6da4e27e-b780-4162-8690-caaf3c16e3bf",
   "metadata": {},
   "outputs": [
    {
     "data": {
      "image/png": "[encoded data removed]",
      "text/plain": [
       "<Figure size 800x490 with 1 Axes>"
      ]
     },
     "metadata": {},
     "output_type": "display_data"
    }
   ],
   "source": [
    "fig, ax = plt.subplots(figsize=(8.0, 4.9))\n",
    "ax.set_ylim([20.5, 0.5])\n",
    "ax.set_yticks([1, 5, 10, 15, 20])\n",
    "ax.set_xlabel('Lap')\n",
    "ax.set_ylabel('Position')\n",
    "\n",
    "for drv in session.drivers:\n",
    "    drv_laps = session.laps.pick_driver(drv)\n",
    "\n",
    "    abb = drv_laps['Driver'].iloc[0]\n",
    "    color = fastf1.plotting.driver_color(abb)\n",
    "\n",
    "    ax.plot(drv_laps['LapNumber'], drv_laps['Position'],\n",
    "            label=abb, color=color)\n",
    "    \n",
    "ax.legend(bbox_to_anchor=(1.0, 1.02))\n",
    "\n",
    "plt.tight_layout()\n",
    "plt.show()"
   ]
  }
 ],
 "metadata": {
  "kernelspec": {
   "display_name": "Python 3 (ipykernel)",
   "language": "python",
   "name": "python3"
  },
  "language_info": {
   "codemirror_mode": {
    "name": "ipython",
    "version": 3
   },
   "file_extension": ".py",
   "mimetype": "text/x-python",
   "name": "python",
   "nbconvert_exporter": "python",
   "pygments_lexer": "ipython3",
   "version": "3.12.3"
  }
 },
 "nbformat": 4,
 "nbformat_minor": 5
}
